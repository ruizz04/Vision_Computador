{
  "cells": [
    {
      "cell_type": "markdown",
      "metadata": {
        "id": "view-in-github",
        "colab_type": "text"
      },
      "source": [
        "<a href=\"https://colab.research.google.com/github/ruizz04/Vision_Computador/blob/main/P1_template.ipynb\" target=\"_parent\"><img src=\"https://colab.research.google.com/assets/colab-badge.svg\" alt=\"Open In Colab\"/></a>"
      ]
    },
    {
      "cell_type": "markdown",
      "metadata": {
        "id": "PByg0iX-YFn1"
      },
      "source": [
        "# Visión por Computador - Práctica 1 - Filtrado de Imágenes\n",
        "\n",
        "#### 13 puntos   |   Fecha de entrega: 02 de Noviembre de 2025, 23:59   |   Forma de entrega: a través de la tarea creada en https://pradogrado2526.ugr.es/\n",
        "\n",
        "### Estudiante: <mark>Pedro Ruiz Castaño</mark>\n",
        "\n"
      ]
    },
    {
      "cell_type": "markdown",
      "metadata": {
        "id": "M1g1sVTUNcgl"
      },
      "source": [
        "---"
      ]
    },
    {
      "cell_type": "markdown",
      "metadata": {
        "id": "73oaL5uINbqu"
      },
      "source": [
        "## Normas de desarrollo y entrega de la práctica\n",
        "\n",
        "1. Para este trabajo, al igual que para los demás, se debe presentar código, resultados, discusión de los mismos, y presentación y análisis del trabajo realizado, todo integrado en el propio Google Colab Notebook (es decir, no se entrega ninguna memoria separada en `.pdf` ni ningún código `.py`). Se recuerda que código y resultados sin informe explicativo no puntúa. Resulta también fundamental recordar que solo se acepta la entrega de ficheros `.ipynb` (no resulta válido entregar un fichero `.py`).\n",
        "\n",
        "2. En relación con el punto anterior, se recuerda que se proporciona un Notebook, denominado `Ejemplo_Otsu.ipynb`, que muestra un ejemplo de respuesta y solución a un potencial ejercicio. El propósito de este Notebook es servir de referencia al alumnado acerca de cómo responder los ejercicios planteados. Véase que, por ejemplo, en aras de diferenciar con facilidad enunciados y respuestas, estas últimas se presentan en otro color (azul, en ese caso).\n",
        "\n",
        "3. El diseño de celdas del documento debe ser respetado. Es decir, no se puede modificar el orden de los ejercicios o alterar la estructura del Notebook, de forma que dificulte localizar los contenidos. Aunque sí se puede, por ejemplo, crear nuevas subsecciones dentro de las secciones ya existentes para estructurar y organizar con más claridad las respuestas, así como para incluir los experimentos extra que se deseen.\n",
        "\n",
        "4. Tal y como se muestra en `Ejemplo_Otsu.ipynb`, no hay ningún problema en emplear técnicas de IA generativa (como ChatGPT o Gemini) para crear el código de los distintos ejercicios o para enriquecer el análisis y descripción del trabajo realizado (aunque, obvia decirlo, su uso no es obligatorio). Pero, en caso de usarse, sí se debe aclarar de qué modo se ha usado la IA, con qué objetivo, y se debe demostrar que se entiende perfectamente lo que se ha hecho.\n",
        "\n",
        "5. Solo se entregará el fichero `.ipynb` (incorporando código, resultados, y explicación del trabajo realizado y los resultados obtenidos) y no se enviarán las imágenes empleadas. El path para la lectura de imágenes, o cualquier otro fichero de entrada, debe ser siempre “/content/drive/My Drive/images/nombre_fichero”.\n",
        "\n",
        "6. El código deberá  presentarse adecuadamente comentado y con los resultados obtenidos en cada apartado, junto con la presentación del trabajo realizado y la discusión y análisis de los resultados obtenidos. Es importante reiterar que la entrega de código sin informe explicativo o valoraciones no puntúa. Por otro lado, el código debe ir comentado en comentarios en celdas de código, mientras que el análisis y discusión, tanto del trabajo realizado como de los resultados obtenidos, debe ir en celdas de texto.\n",
        "\n",
        "Este trabajo de implementación tiene como objetivo principal **familiarizarse con la implementación y uso de filtros de convolución, así como del cálculo de las derivadas de una imagen y sus posibles aplicaciones**.\n",
        "\n",
        "\n"
      ]
    },
    {
      "cell_type": "markdown",
      "source": [
        "### Materiales de Apoyo\n",
        "\n",
        "En caso de que el alumnado tenga dudas sobre Python, OpenCV o el uso de Google Colab, se recuerda que en PRADO hay materiales de apoyo (https://pradogrado2526.ugr.es/mod/folder/view.php?id=95307):\n",
        "-  Introducción a Python: https://pradogrado2526.ugr.es/pluginfile.php/243163/mod_folder/content/0/1.%20Introduccion%20a%20Python.pdf\n",
        "- Introducción a NumPy, Matplotlib y Scikit-learn: https://pradogrado2526.ugr.es/pluginfile.php/243163/mod_folder/content/0/2.%20Introducción%20a%20Numpy%20Matplotlib%20y%20sklearn.pdf\n",
        "- Notebook con toda la información anterior (y más cosas): https://pradogrado2526.ugr.es/pluginfile.php/243163/mod_folder/content/0/Guia_Python.ipynb\n",
        "- Ejercicios y ejemplos de repaso: https://pradogrado2526.ugr.es/pluginfile.php/243163/mod_folder/content/0/3.%20Ejercicios%20y%20ejemplos%20de%20repaso.pdf\n",
        "- Fundamentos de Python para lectura, visualización y manipulación de imágenes: https://pradogrado2526.ugr.es/pluginfile.php/243163/mod_folder/content/0/4.%20Fundamentos%20de%20Python%20para%20manipulacion%20de%20imagenes.pdf (y Notebook asociado: https://pradogrado2526.ugr.es/pluginfile.php/243163/mod_folder/content/0/Guia_fundamentos_imagenes.ipynb)\n",
        "- Ideas sobre cómo redactar un documento académico-científico (útil para saber cómo documentar las respuestas a los ejercicios, el Notebook en su conjunto, y la memoria del proyecto final o de un TFG/TFM): https://pradogrado2526.ugr.es/pluginfile.php/243163/mod_folder/content/0/Algunas%20ideas%20sobre%20cómo%20elaborar%20un%20informe%20académico-científico.pdf\n",
        "- Ejemplo de respuesta a un hipotético ejercicio sobre el algoritmo de umbralización de Otsu: https://pradogrado2526.ugr.es/pluginfile.php/243164/mod_folder/content/0/Ejemplo_Otsu.ipynb"
      ],
      "metadata": {
        "id": "YDz4-F32hW66"
      }
    },
    {
      "cell_type": "markdown",
      "metadata": {
        "id": "klAFlH0YNd9d"
      },
      "source": [
        "\n",
        "\n",
        "---\n",
        "\n"
      ]
    },
    {
      "cell_type": "markdown",
      "metadata": {
        "id": "gbmFKAYGeVIw"
      },
      "source": [
        "## Funciones de apoyo y conexión con Google Drive"
      ]
    },
    {
      "cell_type": "code",
      "execution_count": 1,
      "metadata": {
        "colab": {
          "base_uri": "https://localhost:8080/"
        },
        "id": "44LGhucAXO4y",
        "outputId": "679fac0e-f656-433d-c2c4-e02bfd413b41"
      },
      "outputs": [
        {
          "output_type": "stream",
          "name": "stdout",
          "text": [
            "Mounted at /content/drive\n"
          ]
        }
      ],
      "source": [
        "# We start by getting access to the drive\n",
        "from google.colab import drive\n",
        "drive.mount('/content/drive', force_remount=True)"
      ]
    },
    {
      "cell_type": "code",
      "execution_count": 2,
      "metadata": {
        "colab": {
          "base_uri": "https://localhost:8080/"
        },
        "id": "yC3Bm6JUTowS",
        "outputId": "b7c632e8-0595-4e45-fc0a-bca24606a2a1"
      },
      "outputs": [
        {
          "output_type": "stream",
          "name": "stdout",
          "text": [
            "/content/drive/My Drive\n"
          ]
        }
      ],
      "source": [
        "# We import the main potential modules to use\n",
        "import os,sys\n",
        "import cv2, numpy as np, math\n",
        "from matplotlib import pyplot as plt\n",
        "# change directory\n",
        "%cd '/content/drive/My Drive'\n",
        "#  the current directory\n",
        "%pwd\n",
        "\n",
        "# This allows to display images  and to save  them in cells\n",
        "%matplotlib inline\n",
        "# this definition allows to read files in a specific path\n",
        "get_image = lambda route: os.path.join('/content/drive/My Drive/images', route)"
      ]
    },
    {
      "cell_type": "markdown",
      "metadata": {
        "id": "FE_-D287R-s6"
      },
      "source": [
        "Las funciones que se incluyen a continuación, se proporcionan como ayuda/apoyo para el estudiante. **En caso de que el alumnado prefiera utilizar otras funciones para lectura, normalización y visualización de imágenes, tiene total libertad para hacerlo, pero sí debe justificar y explicar razonadamente el motivo de dicho cambio y describir las modificaciones realizadas.**\n",
        "\n",
        "Recuérdese que todas las imágenes a emplear durante las prácticas de todo el curso se pueden encontrar en el enlace de Google Drive indicado en PRADO: https://pradogrado2526.ugr.es/mod/url/view.php?id=95306 En concreto, https://drive.google.com/drive/folders/1UtvY8q6w1Cz9a9T9zxIqSweoRLgNwoW-"
      ]
    },
    {
      "cell_type": "code",
      "execution_count": 3,
      "metadata": {
        "id": "X83kwgBR2oF3"
      },
      "outputs": [],
      "source": [
        "'''\n",
        "This function receives a string with the filename of the image to read,\n",
        "and a flag indicating if we want to read it in color/RGB (flagColor=1) or gray level (flagColor=0)\n",
        "\n",
        "Example of use:\n",
        "im1=readIm(get_image('apple.jpg'),0)\n",
        "\n",
        "'''\n",
        "def readIm(filename, flagColor=1):\n",
        "  # cv2 reads BGR format\n",
        "  im=cv2.imread(filename)\n",
        "  # change to  RGB and return the image\n",
        "  if(flagColor):\n",
        "    return cv2.cvtColor(im, cv2.COLOR_BGR2RGB)\n",
        "  # change from BGR to grayscale instead if flag is 0\n",
        "  return cv2.cvtColor(im, cv2.COLOR_BGR2GRAY)"
      ]
    },
    {
      "cell_type": "code",
      "execution_count": 4,
      "metadata": {
        "id": "QF8951ZzggM2"
      },
      "outputs": [],
      "source": [
        "'''\n",
        "This function receives an array of arbitrary real numbers (that could include even negative values),\n",
        "and returns an 'image' in the range [0,1].\n",
        "flag_GLOBAL allows the user to normalize the whole image (including all channels) or to normalize\n",
        "each channel/band independently.\n",
        "'''\n",
        "def rangeDisplay01(im, flag_GLOBAL= True):\n",
        "  im = im.astype(float)\n",
        "  if flag_GLOBAL:\n",
        "    im = (im - im.min())/(im.max() - im.min())\n",
        "  else:\n",
        "    # bands normalization\n",
        "    for band in range(im.shape[2]):\n",
        "      im[:, :, band] = (im[:, :, band] - im[:, :, band].min())/(im[:, :, band].max() - im[:, :, band].min())\n",
        "      # Note: remember that, for plt.imshow with RGB data, the valid range is [0..1] for floats and [0..255] for integers.\n",
        "  return im"
      ]
    },
    {
      "cell_type": "code",
      "execution_count": 5,
      "metadata": {
        "id": "p2g_uZ6MsMrs"
      },
      "outputs": [],
      "source": [
        "'''\n",
        "This function displays a single image, including a title, using a magnification factor.\n",
        "\n",
        "Example of use:\n",
        "im1=readIm(get_image('apple.jpg'),0)\n",
        "displayIm(im1,'Manzana',0.5)\n",
        "\n",
        "'''\n",
        "def displayIm(im, title='Result',factor= 2):\n",
        "  # First normalize range\n",
        "  max=np.max(im)\n",
        "  min=np.min(im)\n",
        "  if min<0 or max>255:\n",
        "    im=rangeDisplay01(im,flag_GLOBAL=True)\n",
        "  if len(im.shape) == 3:\n",
        "    # im es tribanda\n",
        "    plt.imshow(im, cmap='jet')\n",
        "  else:\n",
        "    # im es monobanda\n",
        "    plt.imshow(im, cmap='gray')\n",
        "  figure_size = plt.gcf().get_size_inches()\n",
        "  plt.gcf().set_size_inches(factor * figure_size)\n",
        "  plt.title(title)\n",
        "  plt.xticks([]), plt.yticks([]) # eliminamos numeración\n",
        "  plt.show()"
      ]
    },
    {
      "cell_type": "code",
      "execution_count": 6,
      "metadata": {
        "id": "NMLSQakhyOKh"
      },
      "outputs": [],
      "source": [
        "'''\n",
        "This function displays multiple images (including a title and using a magnification factor)\n",
        "of equal size. The input to the function is a list of images.\n",
        "\n",
        "Example of use:\n",
        "im1=readIm(get_image('apple.jpg'),1)\n",
        "images = [im1,im1,im1]\n",
        "\n",
        "displayMI_ES(images, title='Manzanas',factor=1)\n",
        "\n",
        "IMPORTANT NOTE: it is important to notice that this function stacks all images\n",
        "and later call displayIm(). This implies that the normalization (rangeDisplay01()) is done\n",
        "at the very end of the process. As a consequence, if the stacked images have different\n",
        "range values they can be displayed in a \"weird\" way (with black regions (pixel value = 0)\n",
        "looking grey). In case the visualization seems to be a problem, a possible solution\n",
        "would be to create vim using vim.append(rangeDisplay01(...)). In this way, all images\n",
        "would be on the same range of values (negative values around 0 (black),\n",
        "0 values around 0.5 (grey), and positive values closer to 1 (white))\n",
        "\n",
        "'''\n",
        "def displayMI_ES(vim, title='Result',factor=2):\n",
        "  # We set the maximun number of images to concatenate by columns\n",
        "  maxcolumns=3\n",
        "  # number of images to display\n",
        "  numberim=len(vim)\n",
        "  # The simplest case, one row: the maximum number of columns is larger than the images to stack\n",
        "  # This is, by default, we put together the images column-wise\n",
        "  if len(vim) < maxcolumns:\n",
        "    out=vim[0]\n",
        "    for item in range(1,len(vim)):\n",
        "      #displayIm(out,str(item),1)\n",
        "      out=np.hstack((out,vim[item]))\n",
        "\n",
        "  # Else, if maxcolumns is smaller or equal than the number of images to stack\n",
        "  else:\n",
        "    # We check if all rows and columns are going to be 'busy', or if otherwise we need an extra-row\n",
        "    if np.mod(len(vim),maxcolumns)== 0:\n",
        "      maxrows=numberim//maxcolumns\n",
        "    else:\n",
        "      maxrows=numberim//maxcolumns+1\n",
        "\n",
        "    # we build up the first block-row\n",
        "    out=vim[0]\n",
        "    for item in range(1,maxcolumns):\n",
        "      out=np.hstack((out,vim[item]))\n",
        "    # We build up the rest of block-rows\n",
        "    for block in range(1,maxrows):\n",
        "      #print(block)\n",
        "      row=vim[block*maxcolumns]\n",
        "      for item in range(1,maxcolumns):\n",
        "        # We still have images to stack\n",
        "        if block*maxcolumns+item < numberim:\n",
        "          row=np.hstack((row,vim[block*maxcolumns+item]))\n",
        "        # We do not have more images, and we have to fill with black\n",
        "        else:\n",
        "          row=np.hstack((row,np.zeros(vim[0].shape,dtype=vim[0].dtype)))\n",
        "          #print(row.dtype)\n",
        "          # if we don't include ',dtype=vim[0].dtype', np.zeros will include float\n",
        "          # numbers in the matrix. This will make that the whole matrix will be\n",
        "          # considered as floats, and values larger than 1 will be clipped to 1,\n",
        "          # displaying an almost totally white image\n",
        "      # add the new block-row\n",
        "      out=np.vstack((out,row))\n",
        "  return displayIm(out,title,factor)"
      ]
    },
    {
      "cell_type": "markdown",
      "metadata": {
        "id": "UJFjEZjXcyNk"
      },
      "source": [
        "# **Ejercicio 1: discretización de máscaras y filtrado Gaussiano** (5.5 puntos)\n",
        "\n",
        "En este ejercicio aprenderemos a discretizar máscaras de convolución y a aplicarlas sobre imágenes empleando funciones de OpenCV. También buscamos hacerlo de un modo eficiente, y es por ello que, en toda la práctica, se exige el uso de convoluciones 1D (separables).\n",
        "\n",
        "\n",
        "\n"
      ]
    },
    {
      "cell_type": "markdown",
      "metadata": {
        "id": "FVUoP9-MRh0J"
      },
      "source": [
        "## A) (1.5 puntos)"
      ]
    },
    {
      "cell_type": "markdown",
      "metadata": {
        "id": "fEK4II1fRedZ"
      },
      "source": [
        "En este apartado se deben realizar las siguientes tareas:\n",
        "\n",
        "1. Calcular las máscaras discretas 1D de la Gaussiana, así como su primera y segunda derivadas (normalizadas), considerando que la entrada a dicha función de creación de máscaras 1D puede ser tanto un posible sigma como un posible tamaño de máscara.\n",
        "2. Emplear los siguientes valores de sigma ($\\{0.75, 1.5, 3, 6, 12\\}$) y los siguientes valores de tamaño de máscara ($\\{5,9,11,15\\}$), y mostrar el perfil (es decir, la silueta de las máscaras como funciones 1D) para verificar que las máscaras creadas son correctas.\n",
        "3. Describir/explicar/analizar si las formas de dichos kernels tienen sentido y se corresponden con lo que esperaríamos ver."
      ]
    },
    {
      "cell_type": "markdown",
      "source": [
        "<font color=\"blue\"> La función que analizamos es la gaussiana. No hacemos aún la normalización, ya que después normalizaremos el kernel haciendo la suma de los coeficientes igual a 1:\n",
        "\n",
        "\n",
        "<font color=\"blue\">$$\n",
        "\\large f(x) = e^{-\\frac{x^2}{2\\sigma^2}}.\n",
        "$$\n",
        "\n",
        "<font color=\"blue\">Su primera derivada respecto a $x$ es:\n",
        "\n",
        "<font color=\"blue\">$$\n",
        "\\large f'(x) = -\\frac{x}{\\sigma^2} \\, e^{-\\frac{x^2}{2\\sigma^2}}\n",
        "$$\n",
        "\n",
        "<font color=\"blue\">La segunda derivada resulta:\n",
        "\n",
        "<font color=\"blue\">$$\n",
        "\\large f''(x) = \\frac{x^2 - \\sigma^2}{\\sigma^4} \\, e^{-\\frac{x^2}{2\\sigma^2}}.\n",
        "$$\n",
        "\n",
        "\n",
        "\n"
      ],
      "metadata": {
        "id": "iOrLFSJX_saw"
      }
    },
    {
      "cell_type": "code",
      "execution_count": 17,
      "metadata": {
        "id": "KkDRDkSgSJ7H"
      },
      "outputs": [],
      "source": [
        "import math\n",
        "def GaussFunc(x,sigma):\n",
        "  #ignoramos la constante c\n",
        "  #x puede ser un vector de valores o un valor unico\n",
        "  y = np.zeros(len(x))\n",
        "  for i in range(len(x)):\n",
        "    y[i] = math.exp(-(x[i]**2)/(2*sigma**2))\n",
        "\n",
        "  return y\n",
        "\n",
        "def GaussDeriv1Func(x,sigma):\n",
        "  y = np.zeros(len(x))\n",
        "  for i in range(len(x)):\n",
        "    y[i] = -x[i]/(sigma**2) * math.exp(-(x[i]**2)/(2*sigma**2))\n",
        "\n",
        "  return y\n",
        "\n",
        "def GaussDeriv2Func(x,sigma):\n",
        "\n",
        "  y = np.zeros(len(x))\n",
        "  for i in range(len(x)):\n",
        "    y[i] = (x[i]**2 - sigma**2)/(sigma**4) * math.exp(-(x[i]**2)/(2*sigma**2))\n",
        "\n",
        "  return y\n"
      ]
    },
    {
      "cell_type": "code",
      "execution_count": 19,
      "metadata": {
        "colab": {
          "base_uri": "https://localhost:8080/",
          "height": 333
        },
        "id": "uKyggFMHfVrn",
        "outputId": "7caefe50-42ab-4f20-db95-bd63555f202c"
      },
      "outputs": [
        {
          "output_type": "display_data",
          "data": {
            "text/plain": [
              "<Figure size 1500x300 with 1 Axes>"
            ],
            "image/png": "[encoded data removed]"
          },
          "metadata": {}
        }
      ],
      "source": [
        "# Con la siguiente figura verificamos que las funciones Gaussianas implementadas son correctas\n",
        "plt.figure()\n",
        "xvalues = np.linspace(-5, 5)\n",
        "yvalues1 = GaussFunc(xvalues,1)\n",
        "yvalues2 = GaussDeriv1Func(xvalues,1)\n",
        "yvalues3 = GaussDeriv2Func(xvalues,1)\n",
        "plt.plot(xvalues, yvalues1, lw=2, color='red',\n",
        "label='GaussFunc')\n",
        "plt.plot(xvalues, yvalues2, lw=2, color='blue',\n",
        "label='GaussDeriv1Func')\n",
        "plt.plot(xvalues, yvalues3, lw=2, color='green',\n",
        "label='GaussDeriv2Func')\n",
        "plt.title('1D Gaussian and Derivatives (sigma=1)')\n",
        "plt.xlabel('x')\n",
        "plt.ylabel('GaussFunc, GaussDeriv1Func, GaussDeriv2Func')\n",
        "plt.axhline(0, lw=0.5, color='black')\n",
        "plt.axvline(0, lw=0.5, color='black')\n",
        "plt.legend();"
      ]
    },
    {
      "cell_type": "markdown",
      "source": [
        "Una vez tenemos las funciones de Gauss, procedemos a crear la función para calcular las máscaras discretas 1D de la Gaussiana. Debemos tener en cuenta que el tamaño de la máscara viene condicionado por 3σ, pues de esta manera podemos abarcar el 99.73% de valores de la gaussiana. Para poder discretizar correctamente, buscamos el mínimo valor de $k$ que satisfaga $k>=3\\sigma$.\n",
        "\n",
        "\n",
        "El tamaño final de nuestra máscara será $T=2k+1$, ya que la máscara está compuesta por los valores: $[f(-k), ..., f(-1),f(0),f(1), ..., f(k)]$\n",
        "\n",
        "Siguiendo la fórmula anterior, y sabiendo que $k=3σ$, podemos sacar las siguientes relaciones:\n",
        "\n",
        "$$\n",
        "k = \\frac{T-1}{2}\n",
        "$$\n",
        "\n",
        "De la relación \\(3\\sigma = \\frac{T-1}{2}\\) obtenemos:\n",
        "$$\n",
        "\\sigma = \\frac{T-1}{6}\n",
        "$$\n",
        "Y despejando \\(T\\) en función de \\(\\sigma\\):\n",
        "\n",
        "$$\n",
        "T = 2 \\cdot (3\\sigma) + 1 = 6\\sigma + 1\n",
        "$$\n",
        "\n",
        "\n",
        "\n",
        "\n",
        "Una vez tenemos σ y K podemos discretizar la máscara aplicando la función gaussiana o sus derivadas.\n",
        "\n",
        "\n",
        "\n"
      ],
      "metadata": {
        "id": "k371joOiKAAg"
      }
    },
    {
      "cell_type": "code",
      "source": [
        "\n",
        "def gaussianMask1D(sigma=0, sizeMask=0, order=0):\n",
        "\n",
        "    if sizeMask==0:\n",
        "       sizeMask = 2*int(3*sigma)+1\n",
        "    elif sigma==0:\n",
        "       sigma=(sizeMask -1)/6\n",
        "\n",
        "    mask = np.zeros(sizeMask)\n",
        "\n",
        "    # order = 0 -> función Gaussiana\n",
        "    if order==0:\n",
        "      for i in range(len(mask)):\n",
        "        mask[i]=GaussFunc(i-sizeMask//2,sigma)\n",
        "\n",
        "    # order = 1 -> derivada de la Gaussiana\n",
        "    elif order==1:\n",
        "       for i in range(len(mask)):\n",
        "        mask[i]=GaussDeriv1Func(i-sizeMask//2,sigma)\n",
        "\n",
        "    # order = 2 -> derivada segunda de la Gaussiana\n",
        "    elif order==2:\n",
        "       for i in range(len(mask)):\n",
        "        mask[i]=GaussDeriv2Func(i-sizeMask//2,sigma)\n",
        "\n",
        "    return mask"
      ],
      "metadata": {
        "id": "pHO8uomLJ-2c"
      },
      "execution_count": 15,
      "outputs": []
    },
    {
      "cell_type": "markdown",
      "source": [
        "Para comprobar que está correcto:"
      ],
      "metadata": {
        "id": "XO66nKnZRKQO"
      }
    },
    {
      "cell_type": "code",
      "execution_count": 16,
      "metadata": {
        "colab": {
          "base_uri": "https://localhost:8080/",
          "height": 392
        },
        "id": "N2ajLQdJKCC4",
        "outputId": "15069505-bd42-4166-e129-4607790ca951"
      },
      "outputs": [
        {
          "output_type": "stream",
          "name": "stdout",
          "text": [
            "FIJAMOS PRIMERO EL TAMAÑO DE LA MÁSCARA\n"
          ]
        },
        {
          "output_type": "error",
          "ename": "TypeError",
          "evalue": "object of type 'int' has no len()",
          "traceback": [
            "\u001b[0;31m---------------------------------------------------------------------------\u001b[0m",
            "\u001b[0;31mTypeError\u001b[0m                                 Traceback (most recent call last)",
            "\u001b[0;32m/tmp/ipython-input-1290304891.py\u001b[0m in \u001b[0;36m<cell line: 0>\u001b[0;34m()\u001b[0m\n\u001b[1;32m      6\u001b[0m \u001b[0;32mfor\u001b[0m \u001b[0msizeMask\u001b[0m \u001b[0;32min\u001b[0m \u001b[0msize_masks\u001b[0m\u001b[0;34m:\u001b[0m\u001b[0;34m\u001b[0m\u001b[0;34m\u001b[0m\u001b[0m\n\u001b[1;32m      7\u001b[0m   \u001b[0;32mfor\u001b[0m \u001b[0mi\u001b[0m \u001b[0;32min\u001b[0m \u001b[0mrange\u001b[0m\u001b[0;34m(\u001b[0m\u001b[0;36m0\u001b[0m\u001b[0;34m,\u001b[0m\u001b[0;36m3\u001b[0m\u001b[0;34m)\u001b[0m\u001b[0;34m:\u001b[0m\u001b[0;34m\u001b[0m\u001b[0;34m\u001b[0m\u001b[0m\n\u001b[0;32m----> 8\u001b[0;31m     \u001b[0mgaussianMask1D\u001b[0m\u001b[0;34m(\u001b[0m\u001b[0msizeMask\u001b[0m\u001b[0;34m=\u001b[0m\u001b[0msizeMask\u001b[0m\u001b[0;34m,\u001b[0m \u001b[0morder\u001b[0m\u001b[0;34m=\u001b[0m\u001b[0mi\u001b[0m\u001b[0;34m)\u001b[0m\u001b[0;34m\u001b[0m\u001b[0;34m\u001b[0m\u001b[0m\n\u001b[0m\u001b[1;32m      9\u001b[0m \u001b[0;34m\u001b[0m\u001b[0m\n\u001b[1;32m     10\u001b[0m     \u001b[0;31m#A CUBRIR POR EL ALUMNADO\u001b[0m\u001b[0;34m\u001b[0m\u001b[0;34m\u001b[0m\u001b[0m\n",
            "\u001b[0;32m/tmp/ipython-input-2617152899.py\u001b[0m in \u001b[0;36mgaussianMask1D\u001b[0;34m(sigma, sizeMask, order)\u001b[0m\n\u001b[1;32m     11\u001b[0m     \u001b[0;32mif\u001b[0m \u001b[0morder\u001b[0m\u001b[0;34m==\u001b[0m\u001b[0;36m0\u001b[0m\u001b[0;34m:\u001b[0m\u001b[0;34m\u001b[0m\u001b[0;34m\u001b[0m\u001b[0m\n\u001b[1;32m     12\u001b[0m       \u001b[0;32mfor\u001b[0m \u001b[0mi\u001b[0m \u001b[0;32min\u001b[0m \u001b[0mrange\u001b[0m\u001b[0;34m(\u001b[0m\u001b[0mlen\u001b[0m\u001b[0;34m(\u001b[0m\u001b[0mmask\u001b[0m\u001b[0;34m)\u001b[0m\u001b[0;34m)\u001b[0m\u001b[0;34m:\u001b[0m\u001b[0;34m\u001b[0m\u001b[0;34m\u001b[0m\u001b[0m\n\u001b[0;32m---> 13\u001b[0;31m         \u001b[0mmask\u001b[0m\u001b[0;34m[\u001b[0m\u001b[0mi\u001b[0m\u001b[0;34m]\u001b[0m\u001b[0;34m=\u001b[0m\u001b[0mGaussFunc\u001b[0m\u001b[0;34m(\u001b[0m\u001b[0mi\u001b[0m\u001b[0;34m-\u001b[0m\u001b[0msizeMask\u001b[0m\u001b[0;34m//\u001b[0m\u001b[0;36m2\u001b[0m\u001b[0;34m,\u001b[0m\u001b[0msigma\u001b[0m\u001b[0;34m)\u001b[0m\u001b[0;34m\u001b[0m\u001b[0;34m\u001b[0m\u001b[0m\n\u001b[0m\u001b[1;32m     14\u001b[0m \u001b[0;34m\u001b[0m\u001b[0m\n\u001b[1;32m     15\u001b[0m     \u001b[0;31m# order = 1 -> derivada de la Gaussiana\u001b[0m\u001b[0;34m\u001b[0m\u001b[0;34m\u001b[0m\u001b[0m\n",
            "\u001b[0;32m/tmp/ipython-input-1916412402.py\u001b[0m in \u001b[0;36mGaussFunc\u001b[0;34m(x, sigma)\u001b[0m\n\u001b[1;32m      3\u001b[0m   \u001b[0;31m#ignoramos la constante c\u001b[0m\u001b[0;34m\u001b[0m\u001b[0;34m\u001b[0m\u001b[0m\n\u001b[1;32m      4\u001b[0m   \u001b[0;31m#x puede ser un vector de valores\u001b[0m\u001b[0;34m\u001b[0m\u001b[0;34m\u001b[0m\u001b[0m\n\u001b[0;32m----> 5\u001b[0;31m   \u001b[0my\u001b[0m \u001b[0;34m=\u001b[0m \u001b[0mnp\u001b[0m\u001b[0;34m.\u001b[0m\u001b[0mzeros\u001b[0m\u001b[0;34m(\u001b[0m\u001b[0mlen\u001b[0m\u001b[0;34m(\u001b[0m\u001b[0mx\u001b[0m\u001b[0;34m)\u001b[0m\u001b[0;34m)\u001b[0m\u001b[0;34m\u001b[0m\u001b[0;34m\u001b[0m\u001b[0m\n\u001b[0m\u001b[1;32m      6\u001b[0m   \u001b[0;32mfor\u001b[0m \u001b[0mi\u001b[0m \u001b[0;32min\u001b[0m \u001b[0mrange\u001b[0m\u001b[0;34m(\u001b[0m\u001b[0mlen\u001b[0m\u001b[0;34m(\u001b[0m\u001b[0mx\u001b[0m\u001b[0;34m)\u001b[0m\u001b[0;34m)\u001b[0m\u001b[0;34m:\u001b[0m\u001b[0;34m\u001b[0m\u001b[0;34m\u001b[0m\u001b[0m\n\u001b[1;32m      7\u001b[0m     \u001b[0my\u001b[0m\u001b[0;34m[\u001b[0m\u001b[0mi\u001b[0m\u001b[0;34m]\u001b[0m \u001b[0;34m=\u001b[0m \u001b[0mmath\u001b[0m\u001b[0;34m.\u001b[0m\u001b[0mexp\u001b[0m\u001b[0;34m(\u001b[0m\u001b[0;34m-\u001b[0m\u001b[0;34m(\u001b[0m\u001b[0mx\u001b[0m\u001b[0;34m[\u001b[0m\u001b[0mi\u001b[0m\u001b[0;34m]\u001b[0m\u001b[0;34m**\u001b[0m\u001b[0;36m2\u001b[0m\u001b[0;34m)\u001b[0m\u001b[0;34m/\u001b[0m\u001b[0;34m(\u001b[0m\u001b[0;36m2\u001b[0m\u001b[0;34m*\u001b[0m\u001b[0msigma\u001b[0m\u001b[0;34m**\u001b[0m\u001b[0;36m2\u001b[0m\u001b[0;34m)\u001b[0m\u001b[0;34m)\u001b[0m\u001b[0;34m\u001b[0m\u001b[0;34m\u001b[0m\u001b[0m\n",
            "\u001b[0;31mTypeError\u001b[0m: object of type 'int' has no len()"
          ]
        }
      ],
      "source": [
        "sigma_values = {0.75,1.5,3,6,12} #A CUBRIR POR EL ALUMNADO\n",
        "size_masks = {5,9,11,15} #A CUBRIR POR EL ALUMNADO\n",
        "\n",
        "plt.rcParams[\"figure.figsize\"] = (15,3) # para ajustar tamaño del ancho y alto (ejes)\n",
        "print('FIJAMOS PRIMERO EL TAMAÑO DE LA MÁSCARA')\n",
        "for sizeMask in size_masks:\n",
        "  for i in range(0,3):\n",
        "    gaussianMask1D(sizeMask=sizeMask, order=i)\n",
        "\n",
        "    #A CUBRIR POR EL ALUMNADO\n",
        "  plt.show()\n",
        "\n",
        "print('FIJAMOS AHORA EL SIGMA')\n",
        "for sigma in sigma_values:\n",
        "  for i in range(0,3):\n",
        "    gaussianMask1D(sigma=sigma, order=i)\n",
        "   #A CUBRIR POR EL ALUMNADO\n",
        "\n",
        "  plt.show()"
      ]
    },
    {
      "cell_type": "markdown",
      "metadata": {
        "id": "GY584Ui4RqG6"
      },
      "source": [
        "## B) (1.5 puntos)"
      ]
    },
    {
      "cell_type": "markdown",
      "metadata": {
        "id": "c1A0KeOE4x0C"
      },
      "source": [
        "En este apartado se debe leer una imagen en escala de grises (`'motorcycle.bmp'`) y esta debe ser filtrada mostrando el resultado de la convolución con: a) una Gaussiana, b) la primera derivada de la Gaussiana en $X$, c) la primera derivada de la Gaussian en $Y$, d) la segunda derivada de la Gaussiana en $X$, y e) la segunda derivada de la Gaussiana en $Y$. Para ello, hay que:\n",
        "1. emplear los siguientes sigmas ($\\{0.75,1.5,3,6, 12\\}$),\n",
        "2. usar la función de OpenCV `sepFilter2D()` con las máscaras calculadas a partir de las funciones desarrolladas en el apartado anterior,\n",
        "3. mostrar todas las imágenes dentro del mismo canvas, tal y como se muestra más abajo,\n",
        "4. analizar los resultados obtenidos y discutir si se corresponden con lo se esperaría obtener en base a nuestro conocimiento de la teoría.\n",
        "\n",
        "\n"
      ]
    },
    {
      "cell_type": "code",
      "execution_count": null,
      "metadata": {
        "id": "lJyoJrxH4x0D"
      },
      "outputs": [],
      "source": [
        "def my2DConv(im, sigma, orders):\n",
        "  #A CUBRIR POR EL ALUMNADO\n",
        "  if orders==[0,0]: # Suavizado Gaussiano\n",
        "    return #A CUBRIR POR EL ALUMNADO\n",
        "  elif #A CUBRIR POR EL ALUMNADO\n",
        "  else:\n",
        "    print('Error en el orden de la derivada')\n",
        "\n",
        "sigmas = #A CUBRIR POR EL ALUMNADO\n",
        "\n",
        "\n",
        "im=cv2.imread(get_image('motorcycle.bmp'),0)\n",
        "\n",
        "vim0=[]\n",
        "orders=[0,0]\n",
        "for sigma in sigmas:\n",
        "  vim0.append(rangeDisplay01(my2DConv(im,sigma,orders),True))\n",
        "\n",
        "#A CUBRIR POR EL ALUMNADO\n",
        "displayMI_ES(vim0,'Suavizado Gaussiano',2)\n",
        "#A CUBRIR POR EL ALUMNADO\n",
        "\n"
      ]
    },
    {
      "cell_type": "markdown",
      "metadata": {
        "id": "UY9qBy7heGfp"
      },
      "source": [
        "## C) (1 punto)"
      ]
    },
    {
      "cell_type": "markdown",
      "metadata": {
        "id": "rctUkLPf5qOi"
      },
      "source": [
        "En este apartado hay que emplear la función `my2DConv()`, creada en el apartado anterior (y que, a su vez, emplea la función de OpenCV `sepFilter2D()`) con $\\sigma=1.0$ para calcular y mostrar el gradiente (2 imágenes: magnitud y orientación) y la Laplaciana de la Gaussiana. Se debe explicar el trabajo realizado, incluyendo las expresiones matemáticas subyacentes y el análisis, al igual que en todos los ejercicios, relativo a si los resultados obtenidos se corresponden con lo esperado. Se emplea la misma imagen del apartado anterior: `motorcycle.bmp`"
      ]
    },
    {
      "cell_type": "code",
      "execution_count": null,
      "metadata": {
        "id": "CfOLACDu5qOj"
      },
      "outputs": [],
      "source": [
        "def gradientIM(im,sigma):\n",
        "  #A CUBRIR POR EL ALUMNADO\n",
        "  return dx,dy\n",
        "\n",
        "def laplacianG(im,sigma):\n",
        "  return #A CUBRIR POR EL ALUMNADO\n",
        "\n",
        "#A CUBRIR POR EL ALUMNADO"
      ]
    },
    {
      "cell_type": "markdown",
      "metadata": {
        "id": "sjAuZ8uZSmrs"
      },
      "source": [
        "## D) (1.5 puntos)  "
      ]
    },
    {
      "cell_type": "markdown",
      "metadata": {
        "id": "nJlyTU_YSoUs"
      },
      "source": [
        "Implemente una función para realizar \"a mano\" la convolución separable (es decir, empleando kernels 1D). Dicha función debe recibir como entrada una imagen (con el _padding_ adecuado, en caso de que lo necesite, ya incorporado) y un kernel 1D, y debe proporcionar como salida la imagen convolucionada con el kernel en ambas direcciones. Es decir, el hecho de introducir, o no, padding es un elemento externo a la función de convolución que lo único que hace es realizar la convolución separable encajando el kernel hasta el límite de la imagen de entrada.\n",
        "\n",
        "Una vez haya implementado la función, aplique un kernel de derivadas en $X$ a la imagen `zebra.jpg` (usando los kernels de tamaño $5$, generados por nuestras funciones del Ejercicio $1$, y dejando que sea la propia función de creación del kernel la que determine el $\\sigma$ adecuado), y compare el resultado con el de `cv2.Sobel` (en donde se debe optar por la misma estrategia: fijando $ksize=5$ y dejando que sea la propia función de OpenCV la que escoja el sigma). ¿Hay diferencias (sea a nivel de resultado final o de tiempo de ejecución)? En caso afirmativo, ¿a qué se pueden deber?\n",
        "\n",
        "**Nota**: el código del alumnado no puede ser más de $50$ veces más lento que el de OpenCV. Ese es el límite superior aceptable. Se debe optimizar la ejecución para, al menos, estar en ese orden de magnitud comparativamente con el rendimiento ofrecido por OpenCV. Estos tiempos de ejecución se deben medir usando:\n",
        "\n",
        "```python\n",
        "starttime = time.perf_counter()\n",
        "# CÓDIGOS DE CONVOLUCIÓN\n",
        "duration = timedelta(seconds=time.perf_counter() - starttime)\n",
        "```\n"
      ]
    },
    {
      "cell_type": "code",
      "execution_count": null,
      "metadata": {
        "id": "t_m2OamOTFn3"
      },
      "outputs": [],
      "source": [
        "def convolve1D(image,kernel):\n",
        "    #A CUBRIR POR EL ALUMNADO\n",
        "    return output\n",
        "\n",
        "def convolve2D(image, kx, ky):\n",
        "    #A CUBRIR POR EL ALUMNADO\n",
        "\n",
        "    return #A CUBRIR POR EL ALUMNADO"
      ]
    },
    {
      "cell_type": "markdown",
      "metadata": {
        "id": "XT7SGiixe_9b"
      },
      "source": [
        "# **Ejercicio 2**:  Pirámides Gaussianas y Laplacianas (4.5 puntos)\n",
        "\n",
        "\n",
        "\n",
        "\n",
        "\n"
      ]
    },
    {
      "cell_type": "markdown",
      "metadata": {
        "id": "2_uKx4qDS57Q"
      },
      "source": [
        "## A) (1 punto)"
      ]
    },
    {
      "cell_type": "markdown",
      "metadata": {
        "id": "fZtMVhYsS6pg"
      },
      "source": [
        "Construya una pirámide Gaussiana de $5$ niveles empleando máscaras Gaussianas de tamaño $5\\times5$. No se permite emplear las funciones `pyrUp()` y `pyrDown()` de OpenCV. `cv2.resize()` no se puede emplear a la hora de crear la pirámide Gaussiana (apartado A), pero sí a la hora de crear la pirámide Laplaciana (apartado B) y cuando se reconstruye la imagen original a partir de esta última pirámide (apartado C). En todos los apartados de este ejercicio se debe emplear la imagen `einstein.bmp`."
      ]
    },
    {
      "cell_type": "code",
      "execution_count": null,
      "metadata": {
        "id": "FG6Qz8Fvk8RO"
      },
      "outputs": [],
      "source": [
        "'''\n",
        "This function displays a pyramid of images, providing as input the list of images to display.\n",
        "\n",
        "Example of use:\n",
        "im1=readIm(get_image('apple.jpg'),1)\n",
        "images = [im1, cv2.resize(im1,(im1.shape[0]//2,im1.shape[1]//2),cv2.INTER_LINEAR), cv2.resize(im1,(im1.shape[0]//4,im1.shape[1]//4),cv2.INTER_LINEAR), cv2.resize(im1,(im1.shape[0]//8,im1.shape[1]//8),cv2.INTER_LINEAR), cv2.resize(im1,(im1.shape[0]//16,im1.shape[1]//16),cv2.INTER_LINEAR)]\n",
        "\n",
        "displayPyramid(images, title='Piramide de Manzanas')\n",
        "\n",
        "'''\n",
        "def displayPyramid(vim, title='result'):\n",
        "  temp = np.zeros_like(vim[0])\n",
        "  if np.mod(temp.shape[1],2)==0:\n",
        "    h = temp[:, :temp.shape[1]//2]\n",
        "  else:\n",
        "    h = temp[:, :(temp.shape[1]//2)+1]\n",
        "  out = np.hstack((temp, h))\n",
        "  top = 0\n",
        "  out[0:vim[0].shape[0], 0:vim[0].shape[1]] = vim[0]\n",
        "  left = vim[0].shape[1]\n",
        "  for i in range(1, len(vim)):\n",
        "    out[top:top+vim[i].shape[0], left:left + vim[i].shape[1]] = vim[i]\n",
        "    top += vim[i].shape[0]\n",
        "  displayIm(out, title)"
      ]
    },
    {
      "cell_type": "code",
      "execution_count": null,
      "metadata": {
        "id": "OmcH5s0xflme"
      },
      "outputs": [],
      "source": [
        "def pyramidGauss(im,sizeMask=7, nlevel=4):\n",
        "  #A CUBRIR POR EL ALUMNADO\n",
        "  return #A CUBRIR POR EL ALUMNADO\n",
        "\n",
        "im=cv2.imread(get_image('einstein.bmp'),0)\n",
        "pyrG = pyramidGauss(im,sizeMask=7, nlevel=4)\n",
        "displayPyramid(pyrG,'Gaussian Pyramid')\n"
      ]
    },
    {
      "cell_type": "markdown",
      "metadata": {
        "id": "IE66hH0-e-mK"
      },
      "source": [
        "## B) (1 punto)"
      ]
    },
    {
      "cell_type": "markdown",
      "metadata": {
        "id": "iZRf4ZMyTA5R"
      },
      "source": [
        "Use su código del apartado anterior para implementar una función que permita construir una pirámide Laplaciana de $5$ niveles."
      ]
    },
    {
      "cell_type": "code",
      "execution_count": null,
      "metadata": {
        "id": "0kyXN76SfqnM"
      },
      "outputs": [],
      "source": [
        "def pyramidLap(im, sizeMask,nlevel=4,flagInterp=cv2.INTER_LINEAR  ):\n",
        "  #A CUBRIR POR EL ALUMNADO\n",
        "  return #A CUBRIR POR EL ALUMNADO\n",
        "\n",
        "#A CUBRIR POR EL ALUMNADO"
      ]
    },
    {
      "cell_type": "markdown",
      "metadata": {
        "id": "n17zCjkpfrTF"
      },
      "source": [
        "## C) (1 punto)"
      ]
    },
    {
      "cell_type": "markdown",
      "metadata": {
        "id": "d2SzzLLsTGIp"
      },
      "source": [
        "Implemente ahora una función para reconstruir la imagen codificada en la pirámide Laplaciana del apartado 2.B. Verifique que es posible obtener una copia exacta de la imagen original. Para ello, calcule el error de reconstrucción como el _Root Mean Squared Error_ (RMSE) entre los niveles de intensidad de la imagen original y la imagen reconstruida."
      ]
    },
    {
      "cell_type": "code",
      "execution_count": null,
      "metadata": {
        "id": "FZFMopljgOLo"
      },
      "outputs": [],
      "source": [
        "def reconstructLap(pyL,flagInterp):\n",
        "  #A CUBRIR POR EL ALUMNADO\n",
        "  return #A CUBRIR POR EL ALUMNADO\n",
        "\n",
        "im=cv2.imread(get_image('einstein.bmp'),0)\n",
        "#A CUBRIR POR EL ALUMNADO\n",
        "print('Error per pixel',np.sqrt(np.mean((im - np.round(recons)) ** 2)))"
      ]
    },
    {
      "cell_type": "markdown",
      "metadata": {
        "id": "Zs6em166TF4m"
      },
      "source": [
        "## D) (1.5 puntos)"
      ]
    },
    {
      "cell_type": "markdown",
      "source": [
        "### APARTADO 1 (0.5 puntos)\n",
        "\n",
        "Imaginemos que tenemos una implementación en donde, a la hora de construir la pirámide Laplaciana, cada nivel lo introducimos normalizado, es decir, empleamos `rangeDisplay01()` antes de introducir el nivel generado en el listado de imágenes que conforman la pirámide Laplaciana. ¿Qué influencia puede tener a la hora de reconstruir la imagen original? ¿Considera que sería una práctica adecuada?"
      ],
      "metadata": {
        "id": "61dVibx7H_wf"
      }
    },
    {
      "cell_type": "markdown",
      "source": [],
      "metadata": {
        "id": "uyawIgp9gXbk"
      }
    },
    {
      "cell_type": "markdown",
      "source": [
        "### APARTADO 2 (0.5 puntos)\n",
        "\n",
        "Imaginemos ahora que no expandimos de la misma forma al crear la pirámide Laplaciana y al reconstruir la imagen original. En el primer caso, usamos `cv2.resize()`, con `cv2.INTER_LINEAR`, mientras que en el segundo usamos `cv2.pyrUp()`. ¿Esto afecta a la reconstrucción de alguna forma o no? ¿Por qué?"
      ],
      "metadata": {
        "id": "0jRL2btyQAi1"
      }
    },
    {
      "cell_type": "markdown",
      "source": [],
      "metadata": {
        "id": "1jkww-SE-mM6"
      }
    },
    {
      "cell_type": "markdown",
      "metadata": {
        "id": "NqusumgDTIhu"
      },
      "source": [
        "### APARTADO 3 (0.5 puntos)\n",
        "\n",
        "Las herramientas de IA generativa son de gran utilidad tanto para estudiantes como para docentes. No obstante, resulta fundamental tener una actitud crítica y asumir desde el principio que las respuestas proporcionadas por estas herramientas pueden ser factualmente incorrectas (véase,  por ejemplo, https://elpais.com/tecnologia/2024-09-25/los-nuevos-modelos-de-ia-como-chatgpt-persiguen-la-superinteligencia-pero-no-logran-ser-fiables-ni-en-preguntas-bobas.html o https://maldita.es/malditobulo/20250827/grok-identifica-mal-fotografia-franquismo/). En este sentido, vale la pena recordar lo que indica la guía de la UGR (https://ceprud.ugr.es/formacion-tic/inteligencia-artificial): _\"Debes revisar siempre la salida que genera y las posibles referencias que utilice. [...] Mejora tus resultados con la IAGen aprendiendo a usarla y a comunicarte con ella de manera adecuada. Pero no dejes que piense por ti.\"_\n",
        "\n",
        "En este apartado trabajaremos de forma crítica la utilidad de estas herramientas. Para ello, el alumnado debe emplear ChatGPT (https://chatgpt.com/) para analizar si es posible reconstruir a la perfección (`Error per pixel 0.0`) la imagen original por medio de una pirámide Laplaciana construida a partir de una pirámide Gaussiana sin suavizado (es decir, una pirámide no realmente Gaussiana, construida exclusivamente en base a hacer subsampling). Deben indicarse tanto los prompts empleados, como los razonamientos o experimentos llevados a cabo para concluir si lo que la herramienta de IA afirmaba era correcto o no. Muy importante: no se trata meramente de copiar lo que indique ChatGPT como salida, sino de analizar y matizar su respuesta, confrontándola con otras lecturas y lo que el estudiante sabe de la teoría, indicando en qué aspectos dicha respuesta puede considerarse correcta y en qué aspectos quizás no lo es."
      ]
    },
    {
      "cell_type": "markdown",
      "source": [],
      "metadata": {
        "id": "IJXALdfRrbL_"
      }
    },
    {
      "cell_type": "markdown",
      "metadata": {
        "id": "UiKCdJPQf1fe"
      },
      "source": [
        "# **Ejercicio 3: Imágenes Híbridas** (1.5 puntos)\n",
        "\n",
        "Este ejercicio se basa en el siguiente trabajo: $\\textit{Oliva, A., Torralba, A., & Schyns, P. G. (2006). Hybrid images. ACM Transactions on Graphics (TOG), 25(3), 527-532}$ (https://stanford.edu/class/ee367/reading/OlivaTorralb_Hybrid_Siggraph06.pdf).\n",
        "\n",
        "Vamos a profundizar un poco en cómo el sistema visual humano extrae información sobre un objeto en función de la distancia. Para ello, construimos una imagen híbrida a partir de dos imágenes de objetos diferentes. Mezclando adecuadamente parte de las altas frecuencias de una imagen con parte de las bajas frecuencias de la otra, obtenemos una imagen híbrida que muestra diferentes percepciones con la distancia.\n",
        "\n",
        "El sigma empleado para filtrar ambas imágenes (tanto la de alta como la de bajas frecuencias) es el aspecto clave para seleccionar el rango de frecuencias altas y bajas de cada imagen. Cuanto mayor sea el valor sigma, mayor será la eliminación de altas frecuencias de la imagen. Se recomienda elegir este valor por separado para cada una de las imágenes y, de hecho, es deseable tener distintos valores para distintos pares de imágenes.\n",
        "\n",
        "Aspectos de importancia en relación a este ejercicio:\n",
        "\n",
        "1. Como mínimo, se deben generar las imágenes híbridas correspondientes a `'plane.bmp'+'bird.bmp'` y `'bicycle.bmp'+'motorcycle.bmp'` (ambas parejas en escala de grises). Y también el alumnado debe escoger, como mínimo, otro par de imágenes de su elección a hibridar en color, fuera de las incluidas en la carpeta compartida en Drive (https://drive.google.com/drive/folders/1UtvY8q6w1Cz9a9T9zxIqSweoRLgNwoW-). Es decir, como mínimo, debe haber $3$ pares de imágenes híbridas como parte de la respuesta a este ejercicio. Se debe emplear una pirámide Gaussiana con $5$ niveles para mostrar el efecto obtenido.\n",
        "\n",
        "**Nota:** de cara a emplear imágenes que no estén en el repositorio compartido, se recomienda que el alumnado emplee un código como el que se muestra a continuación, y que permite descargar sobre la marcha imágenes a partir de una URL dada.\n",
        "\n",
        "\n",
        "\n",
        "\n"
      ]
    },
    {
      "cell_type": "code",
      "source": [
        "import requests\n",
        "def downloadImage(url):\n",
        "    response = requests.get(url)\n",
        "    img_array = np.frombuffer(response.content, np.uint8)\n",
        "    img = cv2.imdecode(img_array, cv2.IMREAD_COLOR)\n",
        "    img = cv2.cvtColor(img, cv2.COLOR_BGR2RGB)\n",
        "    img = img.astype(np.float64)/255\n",
        "    return img\n",
        "try:\n",
        "    smiley_im = downloadImage(\"https://images.rawpixel.com/image_800/cHJpdmF0ZS9sci9pbWFnZXMvd2Vic2l0ZS8yMDIyLTA1L2ZsMTI5Mjk0MTAxNjUtaW1hZ2Uta3liZW9jNjEuanBn.jpg\")\n",
        "    plt.imshow(smiley_im)\n",
        "except:\n",
        "    print(\"Couldn't download the image from the given URL\")"
      ],
      "metadata": {
        "id": "9n5BKfK_Izue"
      },
      "execution_count": null,
      "outputs": []
    },
    {
      "cell_type": "markdown",
      "source": [
        "2. No es necesario seguir al pie de la letra el artículo de referencia y operar en el dominio de la frecuencia (Fourier). Basta con operar en el dominio del espacio, como hemos hecho en todos los demás apartados de esta práctica. No obstante, sí se debe emplear/buscar algún criterio objetivable/cuantificable a la hora de escoger qué imagen se empleará para las altas frecuencias y cuál para las bajas frecuencias. No basta con escogerla \"a ojo\" y, al contrario, se debe definir alguna métrica que permita realizar la selección.\n",
        "\n",
        "3. En relación con el punto anterior, se debe explicar con claridad el proceso seguido para filtrar la imagen de altas frecuencias y la de bajas frecuencias, incluyendo la elección de los sigmas finalmente utilizados. La realización de una experimentación preliminar, por medio de prueba y error, es perfectamente válida, pero hay que explicarla y justificarla de algún modo. No basta con probar una serie de valores arbitrarios y justificarlo, sucintamente, indicando que *\"se procedió por medio de prueba y error hasta obtener el sigma final\"*."
      ],
      "metadata": {
        "id": "SvWc3CmAOA3s"
      }
    },
    {
      "cell_type": "code",
      "execution_count": null,
      "metadata": {
        "id": "38o7kQU-gGR9"
      },
      "outputs": [],
      "source": [
        "#A CUBRIR POR EL ALUMNADO"
      ]
    },
    {
      "cell_type": "markdown",
      "metadata": {
        "id": "2Sl_F8ypIPDi"
      },
      "source": [
        "# **Ejercicio 4: Canny Edge Detector** (1.5 puntos)\n",
        "\n",
        "En este ejercicio se debe implementar el algoritmo de detección de bordes de Canny y evaluarlo con la imagen `cat.bmp`. Para ello, se deben emplear las funciones definidas hasta ahora en los ejercicios anteriores (de generación de kernels Gaussianos y convolución separable) para:\n",
        "\n",
        "1. **Suavizar la imagen de entrada** para reducir el impacto del ruido. Se debe definir un $sigmaS$, que controlará el grado de suavizado de la imagen de entrada, cuyo valor debe ajustarse adecuadamente.\n",
        "\n",
        "2. Ahora debemos filtrar la imagen con derivadas de la Gaussiana, y **calcular la magnitud y orientación del gradiente**. Los códigos del ejercicio 1.C nos servirán de gran utilidad a este respecto. Es importante destacar que la orientación que queremos calcular debe estar en $[0,180)$ grados en lugar de $[0,360]$, dado que el gradiente de un borde no tiene una dirección específica en el sentido de \"ida y vuelta\". Es decir, lo que nos importa es la orientación del borde, y no el sentido del flujo de píxeles a través de él. Se debe definir un $sigmaG$, cuyo valor debe ajustarse adecuadamente.\n",
        "\n",
        "3. ***Non-maximum suppression***. Este es uno de los elementos clave del algoritmo. En aras de simplificar y acelerar la ejecución de nuestra implementación, lo primero que hacemos es emplear $4$ posibles clusters de ángulos ($0$, $45$, $90$, $135$) a través del siguiente *mapping*:\n",
        "```\n",
        "    [0,22.5) U [157.5,180) -> sector 0\n",
        "    [22.5,67.5) -> sector 45\n",
        "    [67.5,112.5) -> sector 90\n",
        "    [112.5,157.5) -> sector 135\n",
        "```\n",
        "De esta manera estamos discretizando los valores de los posibles ángulos/direcciones de cada pixel. Recordemos que la dirección del gradiente es perpendicular al borde. De modo que un píxel perteneciente a un borde vertical tendría un gradiente con orientación $0º$. A continuación, debemos seleccionar los vecinos de cada píxel basándonos en su orientación:\n",
        "- si dicho píxel pertenece al sector de $0º$, lo compararemos con su vecino izquierdo y derecho.\n",
        "- si dicho píxel pertenece al sector de $45º$, lo compararemos con su vecino de arriba a la derecha y de abajo a la izquierda.\n",
        "- si dicho píxel pertenece al sector de $90º$, lo compararemos con su vecino de arriba y de abajo.\n",
        "- si dicho píxel pertenece al sector de $135º$, lo compararemos con su vecino de arriba a la izquierda y de abajo a la derecha.\n",
        "\n",
        "Y, en todos los casos, si el píxel tiene mayor magnitud que sus vecinos, nos lo quedaremos (de lo contrario, lo ignoraremos y no pasará a la siguiente etapa).\n",
        "\n",
        "Con el fin de obtener una implementación de eficiencia razonable, cuyo tiempo de ejecución no difiera notablemente del que ofrece OpenCV, se plantea la siguiente alternativa (que se plantea, en todo caso, como una mera sugerencia, dado que el alumnado tiene libertad para escoger su propia solución):  \n",
        "\n",
        "- Construir todas las matrices de vecinos (`up`, `down`, `left`, `right`,  `up_left`, etc.) a partir de la imagen de magnitudes original. Y, para realizar las comparaciones, se deben utilizar estos arrays directamente. Es decir, se recomienda emplear operaciones vectorizadas y rehuir de bucles `for` en la medida de lo posible.\n",
        "\n",
        "- Para cada sector, la decisión de \"mantener/descartar\" un píxel depende solo de la magnitud del gradiente original y de las dos entradas vecinas precomputadas. No se debe modificar ni la magnitud del gradiente ni los vecinos durante la iteración. De este modo, por ejemplo, procesar el sector $0$ antes o después de sector $45$ no cambia nada.\n",
        "\n",
        "4. **Umbralización e histéresis**. Se definen dos umbrales ($low$ y $high$). Tras el *non-maxima suppression*, nos interesa quedarnos los píxeles con valores iguales o mayores que $high$. También nos interesa descartar los que sean menores que $low$. Ahora aplicamos la histéresis, que se basa en \"promover a fuerte todo píxel débil que esté conectado por una cadena de píxeles débiles (o fuertes) a un píxel fuerte\". Para implementar esta sección se recomienda emplear `cv2.connectedComponents()` con `connectivity=8`. Pensemos que, si una componente conexa contiene al menos un píxel $strong$, entonces toda la componente conexa estará conectada/encadenada a dicho píxel.\n",
        "\n",
        "Una vez haya finalizado la implementación, verifique el comportamiento del algoritmo estudiando cómo varían las salidas si se modifican los umbrales $low$, $high$, $sigmaS$ y $sigmaG$.\n",
        "\n",
        "\n",
        "\n"
      ]
    },
    {
      "cell_type": "code",
      "source": [
        "\n",
        "import cv2\n",
        "import numpy as np\n",
        "\n",
        "def gradient_and_angle(img, sigmaG):\n",
        "    #A CUBRIR POR EL ALUMNADO\n",
        "    return dx, dy, mag, orient"
      ],
      "metadata": {
        "id": "eNVXH7VRravE"
      },
      "execution_count": null,
      "outputs": []
    },
    {
      "cell_type": "code",
      "execution_count": null,
      "metadata": {
        "id": "Dfzv8g35A7_S"
      },
      "outputs": [],
      "source": [
        "def non_maximum_suppression(mag, ang):\n",
        "    #A CUBRIR POR EL ALUMNADO\n",
        "\n",
        "    return output\n",
        "\n"
      ]
    },
    {
      "cell_type": "code",
      "source": [
        "def double_threshold_and_hysteresis_fast(nms, low, high):\n",
        "    #A CUBRIR POR EL ALUMNADO\n",
        "    return out\n"
      ],
      "metadata": {
        "id": "7-37d6clIzQu"
      },
      "execution_count": null,
      "outputs": []
    },
    {
      "cell_type": "code",
      "source": [
        "def my_canny(img, low_thresh, high_thresh, sigmaGradient, sigmaSmoothing):\n",
        "    #A CUBRIR POR EL ALUMNADO\n",
        "    return nms, edges\n",
        "\n",
        "\n",
        "\n",
        "img=cv2.imread(get_image('cat.bmp'),0).astype(np.float32)\n",
        "low = #A CUBRIR POR EL ALUMNADO\n",
        "high = #A CUBRIR POR EL ALUMNADO\n",
        "sigmaG = #A CUBRIR POR EL ALUMNADO\n",
        "sigmaS = #A CUBRIR POR EL ALUMNADO\n",
        "nms, edges = my_canny(img, low_thresh=low, high_thresh=high, sigmaGradient=sigmaG, sigmaSmoothing = sigmaS)\n",
        "\n",
        "displayMI_ES([rangeDisplay01(img), rangeDisplay01(edges)], title='Original vs Mi Implementación de Canny')"
      ],
      "metadata": {
        "id": "m6L2951r1vyD"
      },
      "execution_count": null,
      "outputs": []
    }
  ],
  "metadata": {
    "colab": {
      "toc_visible": true,
      "provenance": [],
      "include_colab_link": true
    },
    "kernelspec": {
      "display_name": "Python 3",
      "name": "python3"
    },
    "language_info": {
      "name": "python"
    }
  },
  "nbformat": 4,
  "nbformat_minor": 0
}